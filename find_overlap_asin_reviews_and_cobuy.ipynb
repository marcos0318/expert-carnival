{
 "cells": [
  {
   "cell_type": "code",
   "execution_count": 2,
   "id": "335c85b2",
   "metadata": {},
   "outputs": [
    {
     "name": "stdout",
     "output_type": "stream",
     "text": [
      "376858\n",
      "5449319\n",
      "124280\n"
     ]
    }
   ],
   "source": [
    "import json\n",
    "\n",
    "path = \"./Clothing_Shoes_and_Jewelry_5.json\"\n",
    "\n",
    "\n",
    "asin_in_json = set()\n",
    "\n",
    "counter = 0\n",
    "\n",
    "with open(path, \"r\") as fin:\n",
    "    for line in fin:\n",
    "        line_dict = json.loads(line.strip())\n",
    "        \n",
    "        asin_in_json.add(line_dict[\"asin\"])\n",
    "       \n",
    "        counter += 1\n",
    "print(len(asin_in_json))\n",
    "# print(counter)\n",
    "        \n",
    "    \n",
    "co_buy_path = \"./amazon_cobuy_graph.txt\"\n",
    "\n",
    "\n",
    "asin_in_cobuy = set()\n",
    "with open(co_buy_path, \"r\") as fin:\n",
    "    for line in fin:\n",
    "        asin_1, asin_2 = line.split(\"\\t\")\n",
    "        asin_in_cobuy.add(asin_1)\n",
    "        asin_in_cobuy.add(asin_2)\n",
    "\n",
    "print(len(asin_in_cobuy))\n",
    "\n",
    "\n",
    "asin_overlap = asin_in_cobuy & asin_in_json\n",
    "print(len(asin_overlap))"
   ]
  },
  {
   "cell_type": "code",
   "execution_count": 3,
   "id": "641c5d9a",
   "metadata": {},
   "outputs": [
    {
     "name": "stdout",
     "output_type": "stream",
     "text": [
      "160052\n",
      "5449319\n",
      "43058\n"
     ]
    }
   ],
   "source": [
    "import json\n",
    "\n",
    "path = \"./Electronics_5.json\"\n",
    "\n",
    "\n",
    "asin_in_json = set()\n",
    "\n",
    "counter = 0\n",
    "\n",
    "with open(path, \"r\") as fin:\n",
    "    for line in fin:\n",
    "        line_dict = json.loads(line.strip())\n",
    "        \n",
    "        asin_in_json.add(line_dict[\"asin\"])\n",
    "       \n",
    "        counter += 1\n",
    "print(len(asin_in_json))\n",
    "# print(counter)\n",
    "        \n",
    "    \n",
    "co_buy_path = \"./amazon_cobuy_graph.txt\"\n",
    "\n",
    "\n",
    "asin_in_cobuy = set()\n",
    "with open(co_buy_path, \"r\") as fin:\n",
    "    for line in fin:\n",
    "        asin_1, asin_2 = line.split(\"\\t\")\n",
    "        asin_in_cobuy.add(asin_1)\n",
    "        asin_in_cobuy.add(asin_2)\n",
    "\n",
    "print(len(asin_in_cobuy))\n",
    "\n",
    "\n",
    "asin_overlap = asin_in_cobuy & asin_in_json\n",
    "print(len(asin_overlap))\n",
    "        "
   ]
  },
  {
   "cell_type": "code",
   "execution_count": null,
   "id": "7d42f5c6",
   "metadata": {},
   "outputs": [],
   "source": []
  },
  {
   "cell_type": "code",
   "execution_count": null,
   "id": "4267cc24",
   "metadata": {},
   "outputs": [],
   "source": []
  }
 ],
 "metadata": {
  "kernelspec": {
   "display_name": "Python 3 (ipykernel)",
   "language": "python",
   "name": "python3"
  },
  "language_info": {
   "codemirror_mode": {
    "name": "ipython",
    "version": 3
   },
   "file_extension": ".py",
   "mimetype": "text/x-python",
   "name": "python",
   "nbconvert_exporter": "python",
   "pygments_lexer": "ipython3",
   "version": "3.9.12"
  }
 },
 "nbformat": 4,
 "nbformat_minor": 5
}
